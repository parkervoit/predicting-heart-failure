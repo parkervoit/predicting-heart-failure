{
 "cells": [
  {
   "cell_type": "markdown",
   "metadata": {},
   "source": [
    "# Hearbreak: Predicting Heart Failure with Clinical Data"
   ]
  },
  {
   "cell_type": "markdown",
   "metadata": {},
   "source": [
    "## Planning\n",
    "    \"A goal without a plan is just a wish.” ― Antoine de Saint-Exupéry\n",
    "### Goals:\n",
    "    - Find drivers for death in a heart failure event\n",
    "    - Build a classification model to predict death\n",
    "### Methods:\n",
    "    - Acquire data\n",
    "    - Inspect and prep data\n",
    "    - Conduct domain research \n",
    "    - Conduct thourough statistical analysis\n",
    "    - Create visuals where necessary \n",
    "    - Scale data for model\n",
    "    - Fit and validate a few models\n",
    "    - Evaluate best model against test data\n",
    "    - Create a prediction\n",
    "    - Summarize results and future directions"
   ]
  },
  {
   "cell_type": "markdown",
   "metadata": {},
   "source": [
    "## Acquire\n",
    "    “It is a capital mistake to theorize before one has data.” — Sherlock Holmes"
   ]
  },
  {
   "cell_type": "code",
   "execution_count": null,
   "metadata": {},
   "outputs": [],
   "source": []
  }
 ],
 "metadata": {
  "kernelspec": {
   "display_name": "Python 3",
   "language": "python",
   "name": "python3"
  },
  "language_info": {
   "codemirror_mode": {
    "name": "ipython",
    "version": 3
   },
   "file_extension": ".py",
   "mimetype": "text/x-python",
   "name": "python",
   "nbconvert_exporter": "python",
   "pygments_lexer": "ipython3",
   "version": "3.8.5"
  }
 },
 "nbformat": 4,
 "nbformat_minor": 4
}
